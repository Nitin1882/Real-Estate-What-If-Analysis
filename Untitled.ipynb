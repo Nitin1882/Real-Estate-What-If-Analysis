{
 "cells": [
  {
   "cell_type": "code",
   "execution_count": 1,
   "metadata": {},
   "outputs": [],
   "source": [
    "import gmaps\n",
    "import pandas as pd\n",
    "\n",
    "# Google developer API key\n",
    "from config import gkey\n",
    "\n",
    "# Configure gmaps\n",
    "gmaps.configure(api_key=gkey)"
   ]
  },
  {
   "cell_type": "code",
   "execution_count": 2,
   "metadata": {},
   "outputs": [
    {
     "data": {
      "text/html": [
       "<div>\n",
       "<style scoped>\n",
       "    .dataframe tbody tr th:only-of-type {\n",
       "        vertical-align: middle;\n",
       "    }\n",
       "\n",
       "    .dataframe tbody tr th {\n",
       "        vertical-align: top;\n",
       "    }\n",
       "\n",
       "    .dataframe thead th {\n",
       "        text-align: right;\n",
       "    }\n",
       "</style>\n",
       "<table border=\"1\" class=\"dataframe\">\n",
       "  <thead>\n",
       "    <tr style=\"text-align: right;\">\n",
       "      <th></th>\n",
       "      <th>COUNTY</th>\n",
       "      <th>LATITUDE</th>\n",
       "      <th>LONGITUDE</th>\n",
       "      <th>STATION</th>\n",
       "      <th>RAIL_LINE</th>\n",
       "      <th>MUN_LABEL</th>\n",
       "    </tr>\n",
       "  </thead>\n",
       "  <tbody>\n",
       "    <tr>\n",
       "      <th>0</th>\n",
       "      <td>PHILADELPHIA, PA</td>\n",
       "      <td>39.956554</td>\n",
       "      <td>-75.181420</td>\n",
       "      <td>30th Street Station</td>\n",
       "      <td>Atlantic City Line</td>\n",
       "      <td>Philadelphia, PA</td>\n",
       "    </tr>\n",
       "    <tr>\n",
       "      <th>1</th>\n",
       "      <td>CAMDEN</td>\n",
       "      <td>39.928450</td>\n",
       "      <td>-75.041659</td>\n",
       "      <td>Cherry Hill</td>\n",
       "      <td>Atlantic City Line</td>\n",
       "      <td>Cherry Hill Township</td>\n",
       "    </tr>\n",
       "    <tr>\n",
       "      <th>2</th>\n",
       "      <td>CAMDEN</td>\n",
       "      <td>39.833759</td>\n",
       "      <td>-75.000237</td>\n",
       "      <td>Lindenwold</td>\n",
       "      <td>Atlantic City Line</td>\n",
       "      <td>Lindenwold Borough</td>\n",
       "    </tr>\n",
       "    <tr>\n",
       "      <th>3</th>\n",
       "      <td>CAMDEN</td>\n",
       "      <td>39.783622</td>\n",
       "      <td>-74.907706</td>\n",
       "      <td>Atco</td>\n",
       "      <td>Atlantic City Line</td>\n",
       "      <td>Waterford Township</td>\n",
       "    </tr>\n",
       "    <tr>\n",
       "      <th>4</th>\n",
       "      <td>ATLANTIC</td>\n",
       "      <td>39.631673</td>\n",
       "      <td>-74.799496</td>\n",
       "      <td>Hammonton</td>\n",
       "      <td>Atlantic City Line</td>\n",
       "      <td>Hammonton Town</td>\n",
       "    </tr>\n",
       "  </tbody>\n",
       "</table>\n",
       "</div>"
      ],
      "text/plain": [
       "             COUNTY   LATITUDE  LONGITUDE              STATION  \\\n",
       "0  PHILADELPHIA, PA  39.956554 -75.181420  30th Street Station   \n",
       "1            CAMDEN  39.928450 -75.041659          Cherry Hill   \n",
       "2            CAMDEN  39.833759 -75.000237           Lindenwold   \n",
       "3            CAMDEN  39.783622 -74.907706                 Atco   \n",
       "4          ATLANTIC  39.631673 -74.799496            Hammonton   \n",
       "\n",
       "            RAIL_LINE             MUN_LABEL  \n",
       "0  Atlantic City Line      Philadelphia, PA  \n",
       "1  Atlantic City Line  Cherry Hill Township  \n",
       "2  Atlantic City Line    Lindenwold Borough  \n",
       "3  Atlantic City Line    Waterford Township  \n",
       "4  Atlantic City Line        Hammonton Town  "
      ]
     },
     "execution_count": 2,
     "metadata": {},
     "output_type": "execute_result"
    }
   ],
   "source": [
    "nj_transit_df = pd.read_csv('New_Jersey_Railroad_Stations.csv')\n",
    "nj_transit_df.dropna()\n",
    "nj_transit_df.head()"
   ]
  },
  {
   "cell_type": "code",
   "execution_count": 3,
   "metadata": {},
   "outputs": [
    {
     "data": {
      "text/html": [
       "<div>\n",
       "<style scoped>\n",
       "    .dataframe tbody tr th:only-of-type {\n",
       "        vertical-align: middle;\n",
       "    }\n",
       "\n",
       "    .dataframe tbody tr th {\n",
       "        vertical-align: top;\n",
       "    }\n",
       "\n",
       "    .dataframe thead th {\n",
       "        text-align: right;\n",
       "    }\n",
       "</style>\n",
       "<table border=\"1\" class=\"dataframe\">\n",
       "  <thead>\n",
       "    <tr style=\"text-align: right;\">\n",
       "      <th></th>\n",
       "      <th>LATITUDE</th>\n",
       "      <th>LONGITUDE</th>\n",
       "    </tr>\n",
       "  </thead>\n",
       "  <tbody>\n",
       "    <tr>\n",
       "      <th>0</th>\n",
       "      <td>39.956554</td>\n",
       "      <td>-75.181420</td>\n",
       "    </tr>\n",
       "    <tr>\n",
       "      <th>1</th>\n",
       "      <td>39.928450</td>\n",
       "      <td>-75.041659</td>\n",
       "    </tr>\n",
       "    <tr>\n",
       "      <th>2</th>\n",
       "      <td>39.833759</td>\n",
       "      <td>-75.000237</td>\n",
       "    </tr>\n",
       "    <tr>\n",
       "      <th>3</th>\n",
       "      <td>39.783622</td>\n",
       "      <td>-74.907706</td>\n",
       "    </tr>\n",
       "    <tr>\n",
       "      <th>4</th>\n",
       "      <td>39.631673</td>\n",
       "      <td>-74.799496</td>\n",
       "    </tr>\n",
       "  </tbody>\n",
       "</table>\n",
       "</div>"
      ],
      "text/plain": [
       "    LATITUDE  LONGITUDE\n",
       "0  39.956554 -75.181420\n",
       "1  39.928450 -75.041659\n",
       "2  39.833759 -75.000237\n",
       "3  39.783622 -74.907706\n",
       "4  39.631673 -74.799496"
      ]
     },
     "execution_count": 3,
     "metadata": {},
     "output_type": "execute_result"
    }
   ],
   "source": [
    "# Store latitude and longitude in locations\n",
    "nj_transit_df_gb = nj_transit_df.groupby('RAIL_LINE') \n",
    "nj_transit_df_gb.head()\n",
    "\n",
    "marker_locations = nj_transit_df[[\"LATITUDE\", \"LONGITUDE\"]]\n",
    "marker_locations.head()\n",
    "# tuples =[tupel(x) for x in marker_locations.values]\n",
    "#for rows in marker_locations.itertuples(Index=False):\n",
    "    #print(rows)\n"
   ]
  },
  {
   "cell_type": "code",
   "execution_count": 4,
   "metadata": {},
   "outputs": [],
   "source": [
    "# Plot Location of train stations\n",
    "#fig = gmaps.figure()\n",
    "# Create heat layer\n",
    "#heat_layer = gmaps.marker_locations[[\"LATITUDE\", \"LONGITUDE\"]]\n",
    "# Add layer\n",
    "#fig.add_layer(heat_layer)\n",
    "# Display figure\n",
    "#fig"
   ]
  },
  {
   "cell_type": "code",
   "execution_count": 11,
   "metadata": {},
   "outputs": [
    {
     "data": {
      "application/vnd.jupyter.widget-view+json": {
       "model_id": "c81b28382d53409380c585d2d9e636e1",
       "version_major": 2,
       "version_minor": 0
      },
      "text/plain": [
       "Figure(layout=FigureLayout(height='420px'))"
      ]
     },
     "metadata": {},
     "output_type": "display_data"
    }
   ],
   "source": [
    "fig = gmaps.figure()\n",
    "# markers = gmaps.marker_layer(nj_transit_df_gb[[\"LATITUDE\", \"LONGITUDE\"]])\n",
    "markers = gmaps.marker_layer(marker_locations,hover_text=\"STATION\") \n",
    "fig.add_layer(markers)\n",
    "# fig = gmaps.figure(center=(40.5274, -74.3933), zoom_level=8)\n",
    "fig\n",
    "\n",
    "#fig.add_layer(gmaps.heatmap_layer(locations))\n",
    "#fig.add_layer(markers)\n",
    "#fig"
   ]
  },
  {
   "cell_type": "code",
   "execution_count": null,
   "metadata": {},
   "outputs": [],
   "source": []
  }
 ],
 "metadata": {
  "kernelspec": {
   "display_name": "Python 3",
   "language": "python",
   "name": "python3"
  },
  "language_info": {
   "codemirror_mode": {
    "name": "ipython",
    "version": 3
   },
   "file_extension": ".py",
   "mimetype": "text/x-python",
   "name": "python",
   "nbconvert_exporter": "python",
   "pygments_lexer": "ipython3",
   "version": "3.7.3"
  }
 },
 "nbformat": 4,
 "nbformat_minor": 2
}
